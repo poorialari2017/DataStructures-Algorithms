{
 "cells": [
  {
   "metadata": {},
   "cell_type": "markdown",
   "source": "### **imports**",
   "id": "1bdd57ffac4d8e42"
  },
  {
   "cell_type": "code",
   "id": "initial_id",
   "metadata": {
    "collapsed": true,
    "ExecuteTime": {
     "end_time": "2025-10-24T11:03:50.324076Z",
     "start_time": "2025-10-24T11:03:50.319701Z"
    }
   },
   "source": [
    "import sys\n",
    "import os\n",
    "\n",
    "library_path = os.path.join(os.getcwd(), '..', '..', '_Library')\n",
    "sys.path.append(library_path)\n",
    "\n",
    "from cpp_runner import run_cpp"
   ],
   "outputs": [],
   "execution_count": 28
  },
  {
   "metadata": {},
   "cell_type": "markdown",
   "source": "### A) آرایه تک بعدی",
   "id": "9cb6b87dc52f1ebe"
  },
  {
   "metadata": {},
   "cell_type": "markdown",
   "source": "#### Document",
   "id": "d1fb2a91b2560e70"
  },
  {
   "metadata": {},
   "cell_type": "markdown",
   "source": [
    "<div dir=\"rtl\" style=\"text-align: right;\">\n",
    "فرض کنید یک آرایه داریم که از A[a0] شروع و تا A[aN] ادامه دارد\n",
    "</div>"
   ],
   "id": "f8c485a08d08692a"
  },
  {
   "metadata": {},
   "cell_type": "markdown",
   "source": [
    "$$\n",
    "A[a_0,a_1,a_2,..., a_N]\n",
    "$$"
   ],
   "id": "81551d9fcb295444"
  },
  {
   "metadata": {},
   "cell_type": "markdown",
   "source": [
    "<div dir=\"rtl\" style=\"text-align: right;\">\n",
    "برای حساب کردن تعداد عناصر این آرایه از این روش استفاده میکنیم\n",
    "</div>"
   ],
   "id": "9af4b3548531b0cb"
  },
  {
   "metadata": {},
   "cell_type": "markdown",
   "source": [
    "$$\n",
    "\\text{Number of elements} = a_n - a_0 + 1\n",
    "$$"
   ],
   "id": "3bc18f7279e3568e"
  },
  {
   "metadata": {},
   "cell_type": "markdown",
   "source": [
    "<div dir=\"rtl\" style=\"text-align: right;\">\n",
    "اولین عنصر این آرایه را\n",
    "L\n",
    "برگرفته شده از کلمه Lower\n",
    "<br>\n",
    "و با آخرین عنصر را\n",
    "U\n",
    "برگرفته شده از کلمه\n",
    "Upper\n",
    "درنظر میگیریم\n",
    "<br>\n",
    "پس از این به بعد هر وقت خواستیم تعداد عناصر یک آرايه رو حساب کنیم از این فرمول استفاده میکنیم<br>\n",
    "* لازم به ذکر هست که با محتوای عنصر ها کاری نداریم\n",
    "</div>"
   ],
   "id": "c0baca2aba263eb"
  },
  {
   "metadata": {},
   "cell_type": "markdown",
   "source": [
    "$$\n",
    "A[L,...,U] \\to \\text{Number of elements} = U - L + 1\n",
    "$$"
   ],
   "id": "e867b9129bc4527c"
  },
  {
   "metadata": {},
   "cell_type": "markdown",
   "source": "#### *Example*",
   "id": "cd091baa6398ae4b"
  },
  {
   "metadata": {},
   "cell_type": "markdown",
   "source": [
    "$\n",
    "A[a_0,...,a_9] \\to Number of elements = 9 - 0 + 1 = 10\n",
    "$"
   ],
   "id": "553a567d1d190052"
  },
  {
   "metadata": {},
   "cell_type": "markdown",
   "source": "$B[a_5,...,a_9] \\to Number of elements = 9 - 5 + 1 = 5$",
   "id": "a76acfe5b851b139"
  },
  {
   "metadata": {},
   "cell_type": "markdown",
   "source": "#### **Codes**",
   "id": "5ab2f51f01a4e11e"
  },
  {
   "metadata": {
    "ExecuteTime": {
     "end_time": "2025-10-24T11:12:40.357434Z",
     "start_time": "2025-10-24T11:12:40.352889Z"
    }
   },
   "cell_type": "code",
   "source": [
    "my_Array = (1, 2, 3, 4, 5, 6, 7, 8, 9, 10)\n",
    "NOE = len(my_Array)\n",
    "print('Number of elements: ',NOE)"
   ],
   "id": "639e12c86cd8af6c",
   "outputs": [
    {
     "name": "stdout",
     "output_type": "stream",
     "text": [
      "Number of elements:  10\n"
     ]
    }
   ],
   "execution_count": 31
  },
  {
   "metadata": {},
   "cell_type": "markdown",
   "source": [
    "<div dir=\"rtl\" style=\"text-align: right;\">\n",
    "معادل سی پلاس پلاس\n",
    "</div>"
   ],
   "id": "dd13ba6127ef1d51"
  },
  {
   "metadata": {
    "ExecuteTime": {
     "end_time": "2025-10-24T11:03:54.298386Z",
     "start_time": "2025-10-24T11:03:50.350191Z"
    }
   },
   "cell_type": "code",
   "source": [
    "run_cpp(\"\"\"\n",
    "#include <iostream>\n",
    "using namespace std;\n",
    "\n",
    "int main() {\n",
    "    int arr[] = {1,2,3,4,5,6,7,8,9,10};\n",
    "    int n = sizeof(arr) / sizeof(arr[0]);\n",
    "\n",
    "    cout << \"Array: \";\n",
    "    for(int i = 0; i < n; i++) {\n",
    "        cout << arr[i] << \" \";\n",
    "    }\n",
    "    cout << endl;\n",
    "\n",
    "    cout << \"Number of elements: \" << n << endl;\n",
    "\n",
    "    return 0;\n",
    "}\n",
    "\"\"\")"
   ],
   "id": "5b8fa8a93888b6cf",
   "outputs": [
    {
     "name": "stdout",
     "output_type": "stream",
     "text": [
      "Array: 1 2 3 4 5 6 7 8 9 10 \n",
      "Number of elements: 10\n",
      "\n"
     ]
    },
    {
     "data": {
      "text/plain": [
       "True"
      ]
     },
     "execution_count": 30,
     "metadata": {},
     "output_type": "execute_result"
    }
   ],
   "execution_count": 30
  },
  {
   "metadata": {},
   "cell_type": "markdown",
   "source": "#### \"محاسبه آدرس حافظه در آرایه تک‌بعدی\"",
   "id": "8cb574e69f2afb1f"
  },
  {
   "metadata": {},
   "cell_type": "markdown",
   "source": [
    "<div dir=\"rtl\" style=\"text-align: right;\">\n",
    "عنصر\n",
    "A[i]\n",
    "را در نظر بگیرید<br>\n",
    "میخاهیم به دست بیاریم که این عنصر دقیقا در کجای حافظه قرار میگیرد\n",
    "\n",
    "</div>"
   ],
   "id": "b8c70d9cd796f25c"
  },
  {
   "metadata": {},
   "cell_type": "markdown",
   "source": "<img src = \"DS_Array1DAddress.png\" width=70%>",
   "id": "53d679b08fdef52a"
  },
  {
   "metadata": {},
   "cell_type": "markdown",
   "source": [
    "<div dir=\"rtl\" style=\"text-align: right;\">\n",
    "برای بدست آوردن این عدد باید با این پارامتر ها آشنا شویم<br>\n",
    "Start Address:<br>\n",
    "آدرس دهی همیشه از صفر شروع نمیشود گاهی قبل از ذخیره شدن آرایه مد نظر ما چیز های دیگری ذخیره شدن<br>\n",
    "پس اول از همه باید بدانیم آرایه ما از کجا در حافظه شروع شده<br>\n",
    "Distance traveled:<br>\n",
    "مسافت طی شده از خانه شروع ارایه\n",
    "A[a0]\n",
    "تا خانه مد نظر\n",
    "A[i] <br>\n",
    "که با این فرمول قابل به درست آوردن هست\n",
    "</div>"
   ],
   "id": "2514307dbaad1dad"
  },
  {
   "metadata": {},
   "cell_type": "markdown",
   "source": [
    "$$\n",
    "\\text{Distance traveled} = i - L\n",
    "$$"
   ],
   "id": "6284c9db797933cd"
  },
  {
   "metadata": {},
   "cell_type": "markdown",
   "source": [
    "<div dir=\"rtl\" style=\"text-align: right;\">\n",
    "Cell size:<br>\n",
    "سایزی که هر مقدار از عنصر ها اشغال میکنه<br><br>\n",
    "حال برای محاسبه آدرس شروع عنصر\n",
    "A[i]\n",
    "از فرمول زیر استفاده میکنیم\n",
    "</div>"
   ],
   "id": "739982a81b921c7f"
  },
  {
   "metadata": {},
   "cell_type": "markdown",
   "source": [
    "\n",
    "$$\n",
    "\\text{A[i] Address} = \\text{Start Address} + (\\text{Distance Traveled})\\times \\text{Cell Size}\n",
    "$$"
   ],
   "id": "eded96e009c44514",
   "attachments": {
    "1d972f0c-016f-42d1-9849-165bf3d20e3f.png": {
     "image/png": "[encoded data removed]"
    }
   }
  },
  {
   "metadata": {},
   "cell_type": "markdown",
   "source": "#### *Example*",
   "id": "36d6dbaff559518d"
  },
  {
   "metadata": {},
   "cell_type": "markdown",
   "source": [
    "<div dir=\"rtl\" style=\"text-align: right;\">\n",
    "<strong>مثال اول</strong>\n",
    "<br>\n",
    "می‌خواهیم آدرس A[7] را پیدا کنیم.\n",
    "<br>\n",
    "شروع آرایه: L = 5\n",
    "<br>\n",
    "آدرس شروع: 1000\n",
    "<br>\n",
    "فاصله طی شده:\n",
    "i - L = 7 - 5 = 2<br>\n",
    "اندازه سلول: 4<br>\n",
    "</div>"
   ],
   "id": "a5de0c021ee6adc3"
  },
  {
   "metadata": {},
   "cell_type": "markdown",
   "source": "$Address=1000+(2×4)=1008$",
   "id": "e99b42889e16844d"
  },
  {
   "metadata": {},
   "cell_type": "markdown",
   "source": [
    "<div dir=\"rtl\" style=\"text-align: right;\"> <strong>مثال دوم</strong>\n",
    " <br> آرایه B از B[100] تا B[199] تعریف شده است.\n",
    " <br> آدرس شروع: 5000 <br> اندازه سلول: 16 بایت (مثلاً برای ساختارهای بزرگ)\n",
    " <br> محاسبه آدرس B[150]:\n",
    " <br> فاصله طی شده: 150 - 100 = 50\n",
    " <br>\n",
    " </div>"
   ],
   "id": "2fcb3477d75c83d9"
  },
  {
   "metadata": {},
   "cell_type": "markdown",
   "source": "$Address = 5000 + (50 × 16) = 5800$",
   "id": "80b448fab44d953a"
  },
  {
   "metadata": {},
   "cell_type": "markdown",
   "source": "<div dir=\"rtl\" style=\"text-align: right;\"> <strong>مثال ۳: محاسبه آدرس برای خانه‌های خاص</strong> <br> آرایه C از C[-10] تا C[10] با آدرس شروع 3000 <br> اندازه سلول: 4 بایت <br> الف) آدرس C[0]: <br> فاصله = 0 - (-10) = 10 <br> آدرس = 3000 + (10 × 4) = 3040 <br> ب) آدرس C[-5]: <br> فاصله = -5 - (-10) = 5 <br>  </div>",
   "id": "3d005a3a2d5120bc"
  },
  {
   "metadata": {},
   "cell_type": "markdown",
   "source": "$Address = 3000 + (5 × 4) = 3020$",
   "id": "e8ecebb9260c108"
  },
  {
   "metadata": {},
   "cell_type": "markdown",
   "source": "### B) (ماتریس) آرایه دو بعدی",
   "id": "7e4c7065acac5121"
  },
  {
   "metadata": {},
   "cell_type": "markdown",
   "source": "#### Document",
   "id": "b3e12ea165f68bf9"
  },
  {
   "metadata": {},
   "cell_type": "markdown",
   "source": [
    "<div dir=\"rtl\" style=\"text-align: right;\">\n",
    "آرایه دو بعدی\n",
    "</div>"
   ],
   "id": "38042cc1492cd7c0"
  },
  {
   "metadata": {},
   "cell_type": "markdown",
   "source": [
    "$$\n",
    "A[[L_1,...,U_1],[L_2,...,U_2]]\n",
    "$$"
   ],
   "id": "864ff70cda533f2c"
  },
  {
   "metadata": {},
   "cell_type": "markdown",
   "source": [
    "<div dir=\"rtl\" style=\"text-align: right;\">\n",
    "را به صورت\n",
    "</div>"
   ],
   "id": "5659effcd534e453"
  },
  {
   "metadata": {},
   "cell_type": "markdown",
   "source": [
    "$$\n",
    "A[[i],[j]]\n",
    "$$"
   ],
   "id": "2220b248c4aaaf79"
  },
  {
   "metadata": {},
   "cell_type": "markdown",
   "source": [
    "<div dir=\"rtl\" style=\"text-align: right;\">\n",
    "نشان میدهیم<br>\n",
    "و برای حساب تعداد عناصر این آرایه تنها کافیست ضرب تعداد عناصر همه بعد ها را حساب کنیم\n",
    "</div>"
   ],
   "id": "c14c16f3ca7f184"
  },
  {
   "metadata": {},
   "cell_type": "markdown",
   "source": [
    "$$\n",
    "(U_1 - L_1 + 1) \\times (U_2 - L_2 + 1)\n",
    "$$"
   ],
   "id": "9ab96a43d85b9b9c"
  },
  {
   "metadata": {},
   "cell_type": "markdown",
   "source": "#### \"نحوه قرار گیری آرایه دو بعدی در حافظه\"",
   "id": "2248f27d1732eba2"
  },
  {
   "metadata": {},
   "cell_type": "markdown",
   "source": [
    "<div dir=\"rtl\" style=\"text-align: right;\">\n",
    "کلیه آرایه های چند بعدی به دو صورت ذخیره میشوند<br>\n",
    "<strong>روش سطری</strong><br>\n",
    "<strong>روش ستونی </strong><br>\n",
    "برای مثال ماتریس<br>\n",
    "<strong>A[[1,2,3],[1,2]]</strong><br>\n",
    "درنظر بگیرید شکل های زیر روش و نوع ذخیره سازی این آرایه را در حافظه نشان میدهد\n",
    "</div>"
   ],
   "id": "3462a133749101cd"
  },
  {
   "metadata": {},
   "cell_type": "markdown",
   "source": "##### \"سطری\"",
   "id": "b1bbdee7097075dc"
  },
  {
   "metadata": {},
   "cell_type": "markdown",
   "source": "<img src = \"DS_Array2DAddressLine.png\" width=70%>",
   "id": "332e60eb67b96313"
  },
  {
   "metadata": {},
   "cell_type": "markdown",
   "source": [
    "$$\n",
    "\\text{A[i, j] Address} = \\text{Start Address} +[(i-L_1)\\times(U_2 - L_2 + 1) + (j-L_2)]\\times \\text{Cell Size}\n",
    "$$"
   ],
   "id": "aeee8e1a07c22e8f"
  },
  {
   "metadata": {},
   "cell_type": "markdown",
   "source": [
    "<div dir=\"rtl\" style=\"text-align: right;\">\n",
    "برای حساب کرد\n",
    "</div>"
   ],
   "id": "8f1e7fc52ea83e"
  },
  {
   "metadata": {},
   "cell_type": "markdown",
   "source": "##### \"ستونی\"",
   "id": "8aa8c6f22e85c325"
  },
  {
   "metadata": {},
   "cell_type": "markdown",
   "source": "<img src = \"DS_Array2DAddressColumn.png\" width=70%>",
   "id": "8c388fb0ee03864b"
  },
  {
   "metadata": {},
   "cell_type": "markdown",
   "source": [
    "$$\n",
    "\\text{A[i, j] Address} = \\text{Start Address} +[(j-L_2)\\times(U_1 - L_1 + 1) + (i-L_1)]\\times \\text{Cell Size}\n",
    "$$"
   ],
   "id": "21dce1d1bd74e29a"
  },
  {
   "metadata": {},
   "cell_type": "markdown",
   "source": "#### \"حالات خاص\"",
   "id": "161aaad24d256036"
  },
  {
   "metadata": {},
   "cell_type": "markdown",
   "source": [
    "<div dir=\"rtl\" style=\"text-align: right;\">\n",
    "در یکسری حالات آرایه های دوبعدی که ماتریس ما در بخش های قابل توجه ای خالی (صفر) هستش میتوانیم از فرمول های ماتریس استفاده کنیم.<br>\n",
    "این امر باعث میشود از خانه های خالی عبورکنیم و در نتیجه آرایه ما حافظه کم تری برای ذخیره نیاز داشته باشد\n",
    "\n",
    "</div>"
   ],
   "id": "33ba4e96ae13bfc5"
  },
  {
   "metadata": {},
   "cell_type": "markdown",
   "source": "##### \"ماتریس مثلثی\"",
   "id": "b16dda96209ffb7b"
  },
  {
   "metadata": {},
   "cell_type": "markdown",
   "source": [
    "\n",
    "$$\n",
    "\\begin{bmatrix}\n",
    "a_{1,1} & 0 & 0 & \\cdots & 0 \\\\\n",
    "a_{2,1} & a_{2,2} & 0 & \\cdots & 0 \\\\\n",
    "a_{3,1} & a_{3,2} & a_{3,3} & \\cdots & 0 \\\\\n",
    "\\vdots & \\vdots & \\vdots & \\ddots & \\vdots \\\\\n",
    "a_{n,1} & a_{n,2} & a_{n,3} & \\cdots & a_{n,n}\n",
    "\\end{bmatrix}\n",
    "$$"
   ],
   "id": "cf5479382560d3e8"
  },
  {
   "metadata": {},
   "cell_type": "markdown",
   "source": [
    "<div dir=\"rtl\" style=\"text-align: right;\">\n",
    "از آنجایی که ماتریس آورده شده در بالا یک ماتریس پایین مثلثی هستش میتوانیم آن را به حالت خاص ذخیره کرد<br>\n",
    "در این ماتریس\n",
    "$a[i,j]$\n",
    "را به عنوان یک عنصر مدنظر در نظر بگیرید<br>\n",
    "میخاهیم بررسی کنیم که این عنصر در کجای حافضه ذخیره شده\n",
    "</div>"
   ],
   "id": "69c78409c95ea387"
  },
  {
   "metadata": {},
   "cell_type": "markdown",
   "source": [
    "<div dir=\"rtl\" style=\"text-align: right;\">\n",
    "<strong>ابتدا می خواهیم این آرایه را به صورت سطری ذخیره کنیم</strong>\n",
    "<br>\n",
    "در ماتریس پایین مثلثی، تعداد عناصر غیرصفر برابر است با جمع اعداد از ۱ تا n:\n",
    "<br>\n",
    "$$\n",
    "1+2+3+⋯+n= \\frac{n(n+1)}{2}\n",
    "$$\n",
    "<br>\n",
    "می‌خواهیم موقعیت عنصر $a_{ij}$ را در آرایه فشرده پیدا کنیم.\n",
    "<br>\n",
    "اثبات:\n",
    "<br>\n",
    "قبل از سطر i، تعداد عناصر غیرصفر برابر است با جمع اعداد از ۱ تا i-1:\n",
    "<br>\n",
    "$$\n",
    "1 + 2 + 3 + \\cdots + (i-1) = \\frac{i(i-1)}{2}\n",
    "$$\n",
    "<br>\n",
    "<img src = \"DS_ArrayMXpm.png\" width=70%>\n",
    "<br>\n",
    "در سطر i، عنصر $a_{ij}$ در موقعیت jام قرار دارد.\n",
    "<br>\n",
    "بنابراین فرمول نهایی:\n",
    "$$\n",
    "StartAddress +\\frac{i(i-1)}{2} + j\n",
    "$$\n",
    "</div>"
   ],
   "id": "2be1e925ecd46fb0"
  },
  {
   "metadata": {},
   "cell_type": "markdown",
   "source": [
    "<div dir=\"rtl\" style=\"text-align: right;\">\n",
    "<strong>نکته : همچنین میتوان از فرمول مشابه برای ذخیره ماتریس بالا مثلثی به صورت ستونی استفاده کرد با فرق آنکه جای i و j تغی    میکند</strong>\n",
    "<br>\n",
    "$$\n",
    "StartAddress +\\frac{j(j-1)}{2} + i\n",
    "$$\n",
    "\n",
    "</div>"
   ],
   "id": "2587023f53f8a72c"
  },
  {
   "metadata": {},
   "cell_type": "markdown",
   "source": [
    "<div dir=\"rtl\" style=\"text-align: right;\">\n",
    "حال فرض کنید میخواهیم بجای ذخیره سازی سطری از ذخیره سازی ستونی استفاده کنیم\n",
    "\n",
    "$$\n",
    "[A_{1,1},\\ A_{2,1},\\ \\cdots,\\ A_{n,1},\\ A_{2,2},\\ A_{3,2},\\ \\cdots,\\ A_{n,n}]\n",
    "$$\n",
    "- ستون اول: $n$ عنصر\n",
    "- ستون دوم: $n-1$ عنصر\n",
    "- ستون $j$ام: $n-j+1$ عنصر\n",
    "- ستون $(j-1)$ام: $n-(j-1)+1 = n-j+2$ عنصر\n",
    "<br>\n",
    "بنابراین برای بدست آوردن ستون های غیر صفر داریم: <br>\n",
    "$$(𝑛 + 0) + (𝑛 + 1) + ⋯ + (𝑛 − 𝑗 − 2)$$ <br>\n",
    "حال داریم\n",
    "$$𝑛(𝑗 − 1) − (0 + 1 + 2 + ⋯ + (𝑗 − 2)$$\n",
    "<br>\n",
    "سپس به این فرمول میرسیم\n",
    "$$\n",
    "n(j-1) - \\frac{(j-2)(j-1)}{2}\n",
    "$$\n",
    "<br>\n",
    "حال کافیست که فاصله بالای ستون با\n",
    "$A[i,j]$\n",
    "را با حساب\n",
    "$(i-j)$\n",
    "به دست بیاریم. بنابراین:\n",
    "$$\n",
    "\\text{Start Address} + n(j-1) - \\frac{(j-2)(j-1)}{2} + (i - j)\n",
    "$$\n",
    "</div>"
   ],
   "id": "44c3a3b930625aac"
  },
  {
   "metadata": {},
   "cell_type": "markdown",
   "source": [
    "<div dir=\"rtl\" style=\"text-align: right;\">\n",
    "<strong>نکته : همچنین میتوان از فرمول مشابه برای ذخیره ماتریس بالا مثلثی به صورت سطری استفاده کرد با فرق آنکه جای $i$ و $j$ تغییر میکند</strong>\n",
    "$$\n",
    "\\text{Start Address} + n(i-1) - \\frac{(i-2)(i-1)}{2} + (j - i)\n",
    "$$\n",
    "</div>"
   ],
   "id": "4dbd6bc4715a2531"
  },
  {
   "metadata": {},
   "cell_type": "markdown",
   "source": "##### \"ماتریس قطری\"",
   "id": "af3712c3f2597277"
  },
  {
   "metadata": {},
   "cell_type": "markdown",
   "source": [
    "<div dir=\"rtl\" style=\"text-align: right;\">\n",
    "ماتریس سه‌قطری ماتریسی است که تنها عناصر روی قطر اصلی و دو قطر مجاور آن غیرصفر باشند.\n",
    "$$\n",
    "\\begin{pmatrix}\n",
    "a_{11} & a_{12} & 0 & 0 & 0 & 0 & 0 \\\\\n",
    "a_{21} & a_{22} & a_{23} & 0 & 0 & 0 & 0 \\\\\n",
    "0 & a_{32} & a_{33} & a_{34} & 0 & 0 & 0 \\\\\n",
    "0 & 0 & a_{43} & a_{44} & a_{45} & 0 & 0 \\\\\n",
    "0 & 0 & 0 & a_{54} & a_{55} & a_{56} & 0 \\\\\n",
    "0 & 0 & 0 & 0 & a_{65} & a_{66} & a_{67} \\\\\n",
    "0 & 0 & 0 & 0 & 0 & a_{76} & a_{77}\n",
    "\\end{pmatrix}\n",
    "$$\n",
    "</div>"
   ],
   "id": "d2b3c5a8bb5689ef"
  },
  {
   "metadata": {},
   "cell_type": "markdown",
   "source": [
    "<div dir=\"rtl\" style=\"text-align: right;\">\n",
    "به صورت کلی داریم: <br>\n",
    "$$\n",
    "A = \\begin{pmatrix}\n",
    "a_{11} & a_{12} & 0 & 0 & \\cdots & 0 \\\\\n",
    "a_{21} & a_{22} & a_{23} & 0 & \\cdots & 0 \\\\\n",
    "0 & a_{32} & a_{33} & a_{34} & \\cdots & 0 \\\\\n",
    "0 & 0 & a_{43} & a_{44} & \\cdots & 0 \\\\\n",
    "\\vdots & \\vdots & \\vdots & \\vdots & \\ddots & \\vdots \\\\\n",
    "0 & 0 & 0 & 0 & \\cdots & a_{nn}\n",
    "\\end{pmatrix}\n",
    "$$\n",
    " اثبات:<br>\n",
    "- سط اول: ۲ عنصر غیرصفر ($a_{11}, a_{12}$)<br>\n",
    "-سطر آخر: ۲ عنصر غیرصفر ($a_{n,n-1}, a_{nn}$)<br>\n",
    "-سطرهای میانی ($n-2$ سطر): هر کدام ۳ عنصر غیرصفر<br>\n",
    "$$\n",
    "\\text{Total} = 2 + 3(n-2) + 2 = 2 + 3n - 6 + 2 = 3n - 2\n",
    "$$\n",
    "در نتیجه تعداد عناصر غیر صفر برابر هست با<br>\n",
    "$$3n - 2$$\n",
    "</div>"
   ],
   "id": "b9acd1973ce15f4e"
  },
  {
   "metadata": {},
   "cell_type": "markdown",
   "source": "### C) آرایه سه بعدی و بالا تر",
   "id": "27a02ce65e718456"
  },
  {
   "metadata": {},
   "cell_type": "markdown",
   "source": "#### Document",
   "id": "e68b78b65a04672a"
  }
 ],
 "metadata": {
  "kernelspec": {
   "display_name": "Python 3",
   "language": "python",
   "name": "python3"
  },
  "language_info": {
   "codemirror_mode": {
    "name": "ipython",
    "version": 2
   },
   "file_extension": ".py",
   "mimetype": "text/x-python",
   "name": "python",
   "nbconvert_exporter": "python",
   "pygments_lexer": "ipython2",
   "version": "2.7.6"
  }
 },
 "nbformat": 4,
 "nbformat_minor": 5
}
