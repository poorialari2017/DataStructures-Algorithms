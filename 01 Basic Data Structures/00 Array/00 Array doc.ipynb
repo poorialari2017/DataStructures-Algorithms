{
 "cells": [
  {
   "metadata": {},
   "cell_type": "markdown",
   "source": "### **imports**",
   "id": "1bdd57ffac4d8e42"
  },
  {
   "cell_type": "code",
   "id": "initial_id",
   "metadata": {
    "collapsed": true,
    "ExecuteTime": {
     "end_time": "2025-10-24T11:03:50.324076Z",
     "start_time": "2025-10-24T11:03:50.319701Z"
    }
   },
   "source": [
    "import sys\n",
    "import os\n",
    "\n",
    "library_path = os.path.join(os.getcwd(), '..', '..', '_Library')\n",
    "sys.path.append(library_path)\n",
    "\n",
    "from cpp_runner import run_cpp"
   ],
   "outputs": [],
   "execution_count": 28
  },
  {
   "metadata": {},
   "cell_type": "markdown",
   "source": "### A) آرایه تک بعدی",
   "id": "9cb6b87dc52f1ebe"
  },
  {
   "metadata": {},
   "cell_type": "markdown",
   "source": "#### Document",
   "id": "d1fb2a91b2560e70"
  },
  {
   "metadata": {},
   "cell_type": "markdown",
   "source": [
    "<div dir=\"rtl\" style=\"text-align: right;\">\n",
    "فرض کنید یک آرایه داریم که از A[a0] شروع و تا A[aN] ادامه دارد\n",
    "</div>"
   ],
   "id": "f8c485a08d08692a"
  },
  {
   "metadata": {},
   "cell_type": "markdown",
   "source": [
    "$$\n",
    "A[a_0,a_1,a_2,..., a_N]\n",
    "$$"
   ],
   "id": "81551d9fcb295444"
  },
  {
   "metadata": {},
   "cell_type": "markdown",
   "source": [
    "<div dir=\"rtl\" style=\"text-align: right;\">\n",
    "برای حساب کردن تعداد عناصر این آرایه از این روش استفاده میکنیم\n",
    "</div>"
   ],
   "id": "9af4b3548531b0cb"
  },
  {
   "metadata": {},
   "cell_type": "markdown",
   "source": [
    "$$\n",
    "Number of elements = a_n - a_0 + 1\n",
    "$$"
   ],
   "id": "3bc18f7279e3568e"
  },
  {
   "metadata": {},
   "cell_type": "markdown",
   "source": [
    "<div dir=\"rtl\" style=\"text-align: right;\">\n",
    "اولین عنصر این آرایه را\n",
    "L\n",
    "برگرفته شده از کلمه Lower\n",
    "<br>\n",
    "و با آخرین عنصر را\n",
    "U\n",
    "برگرفته شده از کلمه\n",
    "Upper\n",
    "درنظر میگیریم\n",
    "<br>\n",
    "پس از این به بعد هر وقت خواستیم تعداد عناصر یک آرايه رو حساب کنیم از این فرمول استفاده میکنیم<br>\n",
    "* لازم به ذکر هست که با محتوای عنصر ها کاری نداریم\n",
    "</div>"
   ],
   "id": "c0baca2aba263eb"
  },
  {
   "metadata": {},
   "cell_type": "markdown",
   "source": [
    "$$\n",
    "A[L,...,U] \\to Number of elements = U - L + 1\n",
    "$$"
   ],
   "id": "e867b9129bc4527c"
  },
  {
   "metadata": {},
   "cell_type": "markdown",
   "source": "#### *Example*",
   "id": "cd091baa6398ae4b"
  },
  {
   "metadata": {},
   "cell_type": "markdown",
   "source": [
    "$\n",
    "A[a_0,...,a_9] \\to Number of elements = 9 - 0 + 1 = 10\n",
    "$"
   ],
   "id": "553a567d1d190052"
  },
  {
   "metadata": {},
   "cell_type": "markdown",
   "source": "$B[a_5,...,a_9] \\to Number of elements = 9 - 5 + 1 = 5$",
   "id": "a76acfe5b851b139"
  },
  {
   "metadata": {},
   "cell_type": "markdown",
   "source": "#### **Codes**",
   "id": "5ab2f51f01a4e11e"
  },
  {
   "metadata": {
    "ExecuteTime": {
     "end_time": "2025-10-24T11:12:40.357434Z",
     "start_time": "2025-10-24T11:12:40.352889Z"
    }
   },
   "cell_type": "code",
   "source": [
    "my_Array = (1, 2, 3, 4, 5, 6, 7, 8, 9, 10)\n",
    "NOE = len(my_Array)\n",
    "print('Number of elements: ',NOE)"
   ],
   "id": "639e12c86cd8af6c",
   "outputs": [
    {
     "name": "stdout",
     "output_type": "stream",
     "text": [
      "Number of elements:  10\n"
     ]
    }
   ],
   "execution_count": 31
  },
  {
   "metadata": {},
   "cell_type": "markdown",
   "source": [
    "<div dir=\"rtl\" style=\"text-align: right;\">\n",
    "معادل سی پلاس پلاس\n",
    "</div>"
   ],
   "id": "dd13ba6127ef1d51"
  },
  {
   "metadata": {
    "ExecuteTime": {
     "end_time": "2025-10-24T11:03:54.298386Z",
     "start_time": "2025-10-24T11:03:50.350191Z"
    }
   },
   "cell_type": "code",
   "source": [
    "run_cpp(\"\"\"\n",
    "#include <iostream>\n",
    "using namespace std;\n",
    "\n",
    "int main() {\n",
    "    int arr[] = {1,2,3,4,5,6,7,8,9,10};\n",
    "    int n = sizeof(arr) / sizeof(arr[0]);\n",
    "\n",
    "    cout << \"Array: \";\n",
    "    for(int i = 0; i < n; i++) {\n",
    "        cout << arr[i] << \" \";\n",
    "    }\n",
    "    cout << endl;\n",
    "\n",
    "    cout << \"Number of elements: \" << n << endl;\n",
    "\n",
    "    return 0;\n",
    "}\n",
    "\"\"\")"
   ],
   "id": "5b8fa8a93888b6cf",
   "outputs": [
    {
     "name": "stdout",
     "output_type": "stream",
     "text": [
      "Array: 1 2 3 4 5 6 7 8 9 10 \n",
      "Number of elements: 10\n",
      "\n"
     ]
    },
    {
     "data": {
      "text/plain": [
       "True"
      ]
     },
     "execution_count": 30,
     "metadata": {},
     "output_type": "execute_result"
    }
   ],
   "execution_count": 30
  },
  {
   "metadata": {},
   "cell_type": "markdown",
   "source": "#### in memory",
   "id": "8cb574e69f2afb1f"
  },
  {
   "metadata": {},
   "cell_type": "markdown",
   "source": [
    "<div dir=\"rtl\" style=\"text-align: right;\">\n",
    "عنصر\n",
    "A[i]\n",
    "را در نظر بگیرید<br>\n",
    "میخاهیم به دست بیاریم که این عنصر دقیقا در کجای حافظه قرار میگیرد\n",
    "\n",
    "</div>"
   ],
   "id": "b8c70d9cd796f25c"
  },
  {
   "metadata": {},
   "cell_type": "markdown",
   "source": "<img src = \"DS_Array1DAddress.png\" width=70%>",
   "id": "53d679b08fdef52a"
  },
  {
   "metadata": {},
   "cell_type": "markdown",
   "source": [
    "<div dir=\"rtl\" style=\"text-align: right;\">\n",
    "برای بدست آوردن این عدد باید با این پارامتر ها آشنا شویم<br>\n",
    "Start Address:<br>\n",
    "آدرس دهی همیشه از صفر شروع نمیشود گاهی قبل از ذخیره شدن آرایه مد نظر ما چیز های دیگری ذخیره شدن<br>\n",
    "پس اول از همه باید بدانیم آرایه ما از کجا در حافظه شروع شده<br>\n",
    "Distance traveled:<br>\n",
    "مسافت طی شده از خانه شروع ارایه\n",
    "A[a0]\n",
    "تا خانه مد نظر\n",
    "A[i] <br>\n",
    "که با این فرمول قابل به درست آوردن هست\n",
    "</div>"
   ],
   "id": "2514307dbaad1dad"
  },
  {
   "metadata": {},
   "cell_type": "markdown",
   "source": [
    "$$\n",
    "Distance traveled = i - L\n",
    "$$"
   ],
   "id": "6284c9db797933cd"
  },
  {
   "metadata": {},
   "cell_type": "markdown",
   "source": [
    "<div dir=\"rtl\" style=\"text-align: right;\">\n",
    "Cell size:<br>\n",
    "سایزی که هر مقدار از عنصر ها اشغال میکنه<br><br>\n",
    "حال برای محاسبه آدرس شروع عنصر\n",
    "A[i]\n",
    "از فرمول زیر استفاده میکنیم\n",
    "</div>"
   ],
   "id": "739982a81b921c7f"
  },
  {
   "metadata": {},
   "cell_type": "markdown",
   "source": [
    "$$\n",
    "A[i]\\quad Address = StartAddress +(DistanceTraveled)\\times CellSize\n",
    "$$"
   ],
   "id": "eded96e009c44514",
   "attachments": {
    "1d972f0c-016f-42d1-9849-165bf3d20e3f.png": {
     "image/png": "[encoded data removed]"
    }
   }
  },
  {
   "metadata": {},
   "cell_type": "markdown",
   "source": "### B) آرایه دو بعدی",
   "id": "7e4c7065acac5121"
  },
  {
   "metadata": {},
   "cell_type": "markdown",
   "source": "\n",
   "id": "d3b8b335bebc5e8d"
  }
 ],
 "metadata": {
  "kernelspec": {
   "display_name": "Python 3",
   "language": "python",
   "name": "python3"
  },
  "language_info": {
   "codemirror_mode": {
    "name": "ipython",
    "version": 2
   },
   "file_extension": ".py",
   "mimetype": "text/x-python",
   "name": "python",
   "nbconvert_exporter": "python",
   "pygments_lexer": "ipython2",
   "version": "2.7.6"
  }
 },
 "nbformat": 4,
 "nbformat_minor": 5
}
