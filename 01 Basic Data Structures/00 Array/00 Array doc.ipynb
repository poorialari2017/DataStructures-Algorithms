{
 "cells": [
  {
   "cell_type": "code",
   "id": "initial_id",
   "metadata": {
    "collapsed": true,
    "ExecuteTime": {
     "end_time": "2025-10-24T09:31:27.235399Z",
     "start_time": "2025-10-24T09:31:27.231970Z"
    }
   },
   "source": [
    "import sys\n",
    "import os\n",
    "\n",
    "# مسیر کامل به پوشه _Library\n",
    "library_path = os.path.join(os.getcwd(), '..', '..', '_Library')\n",
    "sys.path.append(library_path)\n",
    "\n",
    "from cpp_runner import run_cpp"
   ],
   "outputs": [],
   "execution_count": 22
  },
  {
   "metadata": {},
   "cell_type": "markdown",
   "source": [
    "<div dir=\"rtl\" style=\"text-align: right;\">\n",
    "فرض کنید یک آرایه داریم\n",
    "</div>"
   ],
   "id": "f8c485a08d08692a"
  },
  {
   "metadata": {},
   "cell_type": "markdown",
   "source": [
    "$$\n",
    "A[a_1, a_N]\n",
    "$$"
   ],
   "id": "81551d9fcb295444"
  },
  {
   "metadata": {},
   "cell_type": "markdown",
   "source": [
    "<div dir=\"rtl\" style=\"text-align: right;\">\n",
    "برای حساب کردن تعداد عناصر این آرایه از این روش استفاده میکنیم\n",
    "</div>"
   ],
   "id": "9af4b3548531b0cb"
  },
  {
   "metadata": {},
   "cell_type": "markdown",
   "source": [
    "$$\n",
    "Number of elements = a_n - a_1 + 1\n",
    "$$"
   ],
   "id": "3bc18f7279e3568e"
  },
  {
   "metadata": {},
   "cell_type": "markdown",
   "source": [
    "<div dir=\"rtl\" style=\"text-align: right;\">\n",
    "پس از این به بعد هر وقت خواستیم تعداد یک آرايه رو حساب کنیم از این فرمول استفاده میکنیم\n",
    "</div>"
   ],
   "id": "c0baca2aba263eb"
  },
  {
   "metadata": {},
   "cell_type": "markdown",
   "source": [
    "$$\n",
    "A[L, U] \\to Number of elements = U - L + 1\n",
    "$$"
   ],
   "id": "e867b9129bc4527c"
  },
  {
   "metadata": {
    "ExecuteTime": {
     "end_time": "2025-10-24T09:21:00.192822Z",
     "start_time": "2025-10-24T09:21:00.190185Z"
    }
   },
   "cell_type": "code",
   "source": [
    "my_Array = (1, 2, 3, 4, 5, 6, 7, 8, 9, 10)\n",
    "NOE = len(my_Array)\n",
    "print(NOE)"
   ],
   "id": "639e12c86cd8af6c",
   "outputs": [
    {
     "name": "stdout",
     "output_type": "stream",
     "text": [
      "10\n"
     ]
    }
   ],
   "execution_count": 58
  },
  {
   "metadata": {},
   "cell_type": "markdown",
   "source": [
    "<div dir=\"rtl\" style=\"text-align: right;\">\n",
    "معادل سی پلاس پلاس\n",
    "</div>"
   ],
   "id": "dd13ba6127ef1d51"
  },
  {
   "metadata": {
    "ExecuteTime": {
     "end_time": "2025-10-24T09:31:33.135499Z",
     "start_time": "2025-10-24T09:31:32.834553Z"
    }
   },
   "cell_type": "code",
   "source": [
    "run_cpp(\"\"\"\n",
    "#include <iostream>\n",
    "using namespace std;\n",
    "\n",
    "int main() {\n",
    "    int arr[] = {1,2,3,4,5,6,7,8,9,10};\n",
    "    int n = sizeof(arr) / sizeof(arr[0]);\n",
    "\n",
    "    cout << \"Array: \";\n",
    "    for(int i = 0; i < n; i++) {\n",
    "        cout << arr[i] << \" \";\n",
    "    }\n",
    "    cout << endl;\n",
    "\n",
    "    cout << \"Number of elements: \" << n << endl;\n",
    "\n",
    "    return 0;\n",
    "}\n",
    "\"\"\")"
   ],
   "id": "5b8fa8a93888b6cf",
   "outputs": [
    {
     "name": "stdout",
     "output_type": "stream",
     "text": [
      "Array: 1 2 3 4 5 6 7 8 9 10 \n",
      "Number of elements: 10\n",
      "\n"
     ]
    },
    {
     "data": {
      "text/plain": [
       "True"
      ]
     },
     "execution_count": 23,
     "metadata": {},
     "output_type": "execute_result"
    }
   ],
   "execution_count": 23
  }
 ],
 "metadata": {
  "kernelspec": {
   "display_name": "Python 3",
   "language": "python",
   "name": "python3"
  },
  "language_info": {
   "codemirror_mode": {
    "name": "ipython",
    "version": 2
   },
   "file_extension": ".py",
   "mimetype": "text/x-python",
   "name": "python",
   "nbconvert_exporter": "python",
   "pygments_lexer": "ipython2",
   "version": "2.7.6"
  }
 },
 "nbformat": 4,
 "nbformat_minor": 5
}
